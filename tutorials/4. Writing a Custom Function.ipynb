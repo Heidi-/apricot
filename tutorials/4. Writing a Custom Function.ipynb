{
 "cells": [
  {
   "cell_type": "markdown",
   "metadata": {},
   "source": [
    "### Writing a Custom Function\n",
    "\n",
    "The design of apricot separates out the optimizers from the functions, meaning that extending apricot to custom functions is simple. All one has to do is define the selector object and any of the built-in optimizers can be used without hassle."
   ]
  },
  {
   "cell_type": "code",
   "execution_count": 1,
   "metadata": {},
   "outputs": [
    {
     "name": "stdout",
     "output_type": "stream",
     "text": [
      "Populating the interactive namespace from numpy and matplotlib\n"
     ]
    }
   ],
   "source": [
    "%pylab inline\n",
    "numpy.random.seed(0)\n",
    "\n",
    "import seaborn; seaborn.set_style('whitegrid')"
   ]
  },
  {
   "cell_type": "markdown",
   "metadata": {},
   "source": [
    "Let's start off with the simplest way to optimize a custom function: by defining a set function and passing it in to the `CustomFunctionSelector`. This selector has all the functionality needed for performing selection and is initialized in the same way except that you also pass in the function you want optimized. This function should take in a matrix where each row is an example in the selected set and each column is an attribute about that example. If the function is feature-based, each column should be a feature; if the function is graph-based, each column should be the similarity to an example in the ground set and there should be a number of columns equal to the number of elements in the ground set."
   ]
  },
  {
   "cell_type": "code",
   "execution_count": 2,
   "metadata": {},
   "outputs": [],
   "source": [
    "def sqrt_feature_based_function(X):\n",
    "    return numpy.sqrt(X.sum(axis=0)).sum()"
   ]
  },
  {
   "cell_type": "markdown",
   "metadata": {},
   "source": [
    "Now let's create a data set of random integers to perform selection on. "
   ]
  },
  {
   "cell_type": "code",
   "execution_count": 4,
   "metadata": {},
   "outputs": [
    {
     "data": {
      "text/plain": [
       "array([[9, 4, 4, 6, 4, 4, 3, 4],\n",
       "       [4, 8, 4, 3, 7, 5, 5, 0],\n",
       "       [1, 5, 9, 3, 0, 5, 0, 1],\n",
       "       [2, 4, 2, 0, 3, 2, 0, 7],\n",
       "       [5, 9, 0, 2, 7, 2, 9, 2],\n",
       "       [3, 3, 2, 3, 4, 1, 2, 9],\n",
       "       [1, 4, 6, 8, 2, 3, 0, 0],\n",
       "       [6, 0, 6, 3, 3, 8, 8, 8],\n",
       "       [2, 3, 2, 0, 8, 8, 3, 8],\n",
       "       [2, 8, 4, 3, 0, 4, 3, 6]])"
      ]
     },
     "execution_count": 4,
     "metadata": {},
     "output_type": "execute_result"
    }
   ],
   "source": [
    "X = numpy.random.randint(0, 10, size=(10, 8))\n",
    "X"
   ]
  },
  {
   "cell_type": "code",
   "execution_count": 9,
   "metadata": {},
   "outputs": [
    {
     "data": {
      "text/plain": [
       "(24.043131930449523, 21.98184121014852)"
      ]
     },
     "execution_count": 9,
     "metadata": {},
     "output_type": "execute_result"
    }
   ],
   "source": [
    "sqrt_feature_based_function(X[:2]), sqrt_feature_based_function(X[-2:])"
   ]
  },
  {
   "cell_type": "code",
   "execution_count": null,
   "metadata": {},
   "outputs": [],
   "source": [
    "from apricot import BaseSelector"
   ]
  }
 ],
 "metadata": {
  "kernelspec": {
   "display_name": "Python 3",
   "language": "python",
   "name": "python3"
  },
  "language_info": {
   "codemirror_mode": {
    "name": "ipython",
    "version": 3
   },
   "file_extension": ".py",
   "mimetype": "text/x-python",
   "name": "python",
   "nbconvert_exporter": "python",
   "pygments_lexer": "ipython3",
   "version": "3.7.4"
  }
 },
 "nbformat": 4,
 "nbformat_minor": 2
}
